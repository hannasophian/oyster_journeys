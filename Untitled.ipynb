{
 "cells": [
  {
   "cell_type": "markdown",
   "id": "48ff3835-9b6e-4171-8996-4a236e58f397",
   "metadata": {},
   "source": [
    "# Transport for London (TfL) Journies - Exploratory Data Analysis"
   ]
  },
  {
   "cell_type": "markdown",
   "id": "03f199af-3ede-4739-8e33-7f7bd5102b54",
   "metadata": {},
   "source": [
    "This is an exploratory data analysis project. The aim of this project is to identify the main characteristics of a dataset, extract information without using a formal model and display insights visually in a way that would be understood by stakeholders."
   ]
  },
  {
   "cell_type": "markdown",
   "id": "3612e834-1d7e-4cd8-b5ee-6613e785412a",
   "metadata": {},
   "source": [
    "I chose this dataset to analyse, because I am a regular user of the Transport for London (TfL) network. I find myself constantly trying to make my journies as efficient and comfortable as possible by avoiding crowded stations. I thought that it would be interesting to analyse the data from the point of view of a TfL employee who is trying to reduce overcrowded stations."
   ]
  },
  {
   "cell_type": "markdown",
   "id": "fee3c70c-62a1-4604-bfea-41733d0e41ba",
   "metadata": {},
   "source": [
    "## The Dataset"
   ]
  },
  {
   "cell_type": "markdown",
   "id": "44861da6-052e-4b0f-8137-34d59c1b75ad",
   "metadata": {},
   "source": [
    "The dataset contains data on Oyster Card journies from a week in November of 2009. Oyster cards are reusable cards used for ticketing purposes on the TfL network, so they can be used on buses, underground trains, tram lines etc.\n",
    "\n",
    "The features in the dataset are either about the journey taken (e.g. Start/Exit station, Route numbers) or the Oyster Card type. "
   ]
  },
  {
   "cell_type": "markdown",
   "id": "e13a3a63-a912-4c22-923e-30e7457a4151",
   "metadata": {},
   "source": [
    "### Limitations of the Dataset \n",
    "\n",
    "- All the data is from a single week in November 2009, that may not be representative of all weeks.\n",
    "- Since the data is from over 15 years ago, it may inaccurately describe what journies would look like today. Many things have changed such as new service lines, different payment methods. Because of this, I want to ensure that any analysis applied on this dataset could be applied on a dataset from 2024 as well."
   ]
  },
  {
   "cell_type": "markdown",
   "id": "09b71441-2057-4430-bf22-0506dec37802",
   "metadata": {},
   "source": [
    "## Analysis"
   ]
  },
  {
   "cell_type": "code",
   "execution_count": null,
   "id": "a826bc61-477c-4ec2-b9a1-d2f9ec9712dc",
   "metadata": {},
   "outputs": [],
   "source": []
  }
 ],
 "metadata": {
  "kernelspec": {
   "display_name": "Python 3 (ipykernel)",
   "language": "python",
   "name": "python3"
  },
  "language_info": {
   "codemirror_mode": {
    "name": "ipython",
    "version": 3
   },
   "file_extension": ".py",
   "mimetype": "text/x-python",
   "name": "python",
   "nbconvert_exporter": "python",
   "pygments_lexer": "ipython3",
   "version": "3.12.4"
  }
 },
 "nbformat": 4,
 "nbformat_minor": 5
}
