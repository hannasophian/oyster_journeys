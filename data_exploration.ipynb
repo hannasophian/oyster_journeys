{
 "cells": [
  {
   "cell_type": "markdown",
   "id": "48ff3835-9b6e-4171-8996-4a236e58f397",
   "metadata": {},
   "source": [
    "# Transport for London (TfL) Journeys - Exploratory Data Analysis"
   ]
  },
  {
   "cell_type": "markdown",
   "id": "03f199af-3ede-4739-8e33-7f7bd5102b54",
   "metadata": {},
   "source": [
    "This is an exploratory data analysis project. The aim of this project is to identify the main characteristics of a dataset, extract information without using a formal model and display insights visually in a way that would be understood by stakeholders."
   ]
  },
  {
   "cell_type": "markdown",
   "id": "3612e834-1d7e-4cd8-b5ee-6613e785412a",
   "metadata": {},
   "source": [
    "I chose this dataset to analyse, because I am a regular user of the Transport for London (TfL) network. I find myself constantly trying to avoid travelling during busier times or at busier stations. I thought that it would be interesting to analyse the data from the point of view of a TfL employee who is trying to reduce overcrowded stations."
   ]
  },
  {
   "cell_type": "markdown",
   "id": "fee3c70c-62a1-4604-bfea-41733d0e41ba",
   "metadata": {},
   "source": [
    "## The Dataset"
   ]
  },
  {
   "cell_type": "markdown",
   "id": "44861da6-052e-4b0f-8137-34d59c1b75ad",
   "metadata": {},
   "source": [
    "https://www.kaggle.com/datasets/astronasko/transport-for-london-journey-information\n",
    "\n",
    "The dataset contains data on Oyster Card journeys from a week in November of 2009. Oyster cards are reusable cards used for ticketing purposes on the TfL network, so they can be used on buses, underground trains, tram lines etc.\n",
    "\n",
    "The features in the dataset are either about the journey taken (e.g. Start/Exit station, Route numbers) or the Oyster Card type. "
   ]
  },
  {
   "cell_type": "markdown",
   "id": "e13a3a63-a912-4c22-923e-30e7457a4151",
   "metadata": {},
   "source": [
    "### Limitations of the Dataset \n",
    "\n",
    "- All the data is from a single week in November 2009, that may not be representative of all weeks.\n",
    "- Since the data is from over 15 years ago, it may inaccurately describe what journeys would look like today. Many things have changed such as new service lines, different payment methods. Because of this, I want to ensure that any analysis applied on this dataset could be applied on a dataset from 2024 as well."
   ]
  },
  {
   "cell_type": "markdown",
   "id": "09b71441-2057-4430-bf22-0506dec37802",
   "metadata": {},
   "source": [
    "## Analysis"
   ]
  },
  {
   "cell_type": "markdown",
   "id": "388b8caf-f9b5-418a-b2af-78dbbf838c3e",
   "metadata": {},
   "source": [
    "Questions to answer in the initial analysis:\n",
    "- How many journeys were made for each mode of transport (i.e. bus, DLR, underground etc.)?\n",
    "- What is the distribution of journey start times? This can help to identify the busiest times.\n",
    "- Which stations are used the most?\n",
    "- Which products are used to pay for journeys the most/least?"
   ]
  },
  {
   "cell_type": "code",
   "execution_count": null,
   "id": "eee9fd89-8730-4ad8-abde-198d22689be9",
   "metadata": {},
   "outputs": [],
   "source": [
    "import pandas as pd\n",
    "import seaborn as sns\n",
    "import matplotlib.pyplot as plt\n",
    "from datetime import time\n",
    "import math\n",
    "import folium"
   ]
  },
  {
   "cell_type": "code",
   "execution_count": null,
   "id": "4e05243a-a7a7-4ac0-ac97-afbaa2c73091",
   "metadata": {},
   "outputs": [],
   "source": [
    "df = pd.read_csv(\"Nov09JnyExport.csv\")\n",
    "df.head()"
   ]
  },
  {
   "cell_type": "code",
   "execution_count": null,
   "id": "59518b4c-6ce2-4b2c-95a4-6124cce83c97",
   "metadata": {},
   "outputs": [],
   "source": [
    "row_count = len(df)\n",
    "df.info(show_counts=True)"
   ]
  },
  {
   "cell_type": "markdown",
   "id": "45c2cfea-d138-44fc-a7fd-fc222cc1dc87",
   "metadata": {},
   "source": [
    "The data has 2623487 rows. The summary above shows that there are no Null values."
   ]
  },
  {
   "cell_type": "markdown",
   "id": "9f21fc4a-35d1-4902-874d-d8775a671ebd",
   "metadata": {},
   "source": [
    "I'm going to find out which mode of transport is most popular."
   ]
  },
  {
   "cell_type": "code",
   "execution_count": null,
   "id": "f2edeece-b747-45d7-8981-322860cc24ba",
   "metadata": {},
   "outputs": [],
   "source": [
    "df['SubSystem'].value_counts()"
   ]
  },
  {
   "cell_type": "markdown",
   "id": "fea000d4-a28f-481e-98eb-004f7c03505e",
   "metadata": {},
   "source": [
    "The top three modes of transport London Buses (LTB), London Underground (LUL) and National Rail (NL) make up 97% of all journeys."
   ]
  },
  {
   "cell_type": "markdown",
   "id": "ad8fde15-2fe2-4b81-a3f7-13728ffa460f",
   "metadata": {},
   "source": [
    "What is the distribution of journey start times?"
   ]
  },
  {
   "cell_type": "code",
   "execution_count": null,
   "id": "81989c56-5de8-4e82-987e-313985f81773",
   "metadata": {},
   "outputs": [],
   "source": [
    "df[\"EntTimeHoursAfterMidnight\"] = df[\"EntTime\"]/60\n",
    "ax = sns.displot(df, x=\"EntTimeHoursAfterMidnight\")\n",
    "ax.set(xlabel=\"Journey entry time (hours after midnight)\", ylabel='Number of journeys', title=\"Graph showing distribution of journey start times\")\n",
    "plt.show"
   ]
  },
  {
   "cell_type": "markdown",
   "id": "cc7289ba-aa29-4172-9854-7508e0c02c73",
   "metadata": {},
   "source": [
    "From the graph, we can see that the data collection starts just before 5am on the first day and stops at around the same time the next day.\n",
    "\n",
    "It seems that the peak times for journeys started are around 8am and between 3pm and 6pm.\n",
    "Between these times, there are also a considerable amount of journies. Between 1am and 5am there are very little journeys started."
   ]
  },
  {
   "cell_type": "markdown",
   "id": "c73e2e3d-dbc5-4078-93dc-185e29dca574",
   "metadata": {},
   "source": [
    "What about the sharp spike of data at 0 (midnight)? It's unlikely that data collection was occuring at this time, as most of the data starts at 5am. Even if data was being collected, I would not expect over 40,000 journeys to have started at this time, as the number is at around 2000 the next day.\n",
    "\n",
    "I expect this has to do with 'unstarted' journeys (where the customer may have forgotten to 'tap' their Oyster card on entering the TfL Network). I'm going to verify this."
   ]
  },
  {
   "cell_type": "code",
   "execution_count": null,
   "id": "be51e017-157b-472c-b3e4-819d7118344b",
   "metadata": {},
   "outputs": [],
   "source": [
    "row_count = len(df)\n",
    "ent_time_0_count = len(df[df.EntTime == 0])\n",
    "unstarted_journey_count = len(df[df.StartStn == \"Unstarted\"])\n",
    "print(\"Number of journies that started at midnight: \", ent_time_0_count)\n",
    "print(\"Number of 'unstarted' journies: \", unstarted_journey_count)\n",
    "print(\"\\'Unstarted\\' journies make up {}% of all journies \".format(unstarted_journey_count*100/row_count))"
   ]
  },
  {
   "cell_type": "markdown",
   "id": "ae31ad83-a774-4d54-bc9b-159bc186a26b",
   "metadata": {},
   "source": [
    "The numbers seem to confirm that the spike of journeys 'started' at midnight correspond to the number of unstarted journeys.\n",
    "Since these journies make up less than 2% of all journies, it would be safe to drop these instances if needed."
   ]
  },
  {
   "cell_type": "markdown",
   "id": "b9417dc3-0a55-4164-b842-b4961e8bd4a9",
   "metadata": {},
   "source": [
    "Next, I want to find out which stations are the busiest. This will be informative when trying to reduce overcrowding on the network."
   ]
  },
  {
   "cell_type": "code",
   "execution_count": null,
   "id": "55f24f21-832b-43cd-9bbe-28aa5ed2440d",
   "metadata": {},
   "outputs": [],
   "source": [
    "# Combine the start and end stations into a series.\n",
    "# Ignoring bus journeys as their stations are just recorded as 'Bus'\n",
    "start_stations = df[~df.StartStn.isin([\"Unstarted\", \"Bus\"])][\"StartStn\"]\n",
    "end_stations = df[~df.EndStation.isin([\"Unfinished\", \"Bus\"])][\"EndStation\"]\n",
    "all_stations = start_stations._append(end_stations, ignore_index=True)\n",
    "\n",
    "# Count the frequency of each station\n",
    "all_stations_count = all_stations.value_counts()\n",
    "\n",
    "all_stations_count"
   ]
  },
  {
   "cell_type": "markdown",
   "id": "532f255c-abe3-4db6-9502-2ea26e1edfdd",
   "metadata": {},
   "source": [
    "There are 453 stations recorded (note: some stations with multiple entrances/exits are recorded as separate stations). There is a large difference in counts between the most and least popular stations."
   ]
  },
  {
   "cell_type": "markdown",
   "id": "0808771f-70b4-4281-a4e7-3b5158831940",
   "metadata": {},
   "source": [
    "Next, I'm going to plot the frequencies for the top 7 stations."
   ]
  },
  {
   "cell_type": "code",
   "execution_count": null,
   "id": "e02bdbf8-acb8-443a-8801-3e24c6b80122",
   "metadata": {},
   "outputs": [],
   "source": [
    "stations_highest_count = all_stations_count.nlargest(7)\n",
    "stations_highest_count_df = stations_highest_count.reset_index()\n",
    "stations_highest_count_df.columns = ['Station', 'Frequency']\n",
    "\n",
    "# Plot the data\n",
    "plt.figure(figsize=(10, 6))\n",
    "sns.barplot(x='Station', y='Frequency', data=stations_highest_count_df)\n",
    "plt.title('Top 7 most used stations')\n",
    "plt.xlabel('Station')\n",
    "plt.ylabel('Frequency')\n",
    "plt.show()"
   ]
  },
  {
   "cell_type": "markdown",
   "id": "245d3803-66ed-48ad-ad9a-ce353072c1b6",
   "metadata": {},
   "source": [
    "## Solving the Problem - Overcrowded Stations"
   ]
  },
  {
   "cell_type": "markdown",
   "id": "a3a31e46-39ae-4d9d-a99a-11f3f5db1cfb",
   "metadata": {},
   "source": [
    "I found a list of station and their coordinates provided by TfL here: https://tfl.gov.uk/corporate/transparency/freedom-of-information/foi-request-detail?referenceId=FOI-1451-1819\n",
    "\n",
    "I will use this to show the most popular stations and quieter surrounding stations."
   ]
  },
  {
   "cell_type": "code",
   "execution_count": null,
   "id": "4a517e26-0615-4b64-b17f-ca0013ed4194",
   "metadata": {},
   "outputs": [],
   "source": [
    "station_df = pd.read_csv(\"station_coordinates.csv\", index_col=[0])\n",
    "station_df.head()"
   ]
  },
  {
   "cell_type": "code",
   "execution_count": null,
   "id": "1f6ed219-1688-432e-9c21-a82901ee2219",
   "metadata": {},
   "outputs": [],
   "source": [
    "# Some stations e.g. Liverpool Street have more than one row (as they have multiple entrances)\n",
    "station_df = station_df.drop_duplicates(subset='NAME', keep='first')"
   ]
  },
  {
   "cell_type": "code",
   "execution_count": null,
   "id": "ff000ec7-bfb8-4cca-90e1-d6275fd8b2b9",
   "metadata": {},
   "outputs": [],
   "source": [
    "all_stations_count = all_stations_count.reset_index()\n",
    "all_stations_count.columns = [\"Station\", \"Frequency\"]\n",
    "all_stations_count.to_csv(\"all_Stations\")"
   ]
  },
  {
   "cell_type": "code",
   "execution_count": null,
   "id": "8da3b9d7-7cf2-4678-94bc-53a646a04eff",
   "metadata": {},
   "outputs": [],
   "source": [
    "all_kings_x_stations = all_stations_count[all_stations_count['Station'].str.startswith('Kings Cross')]\n",
    "kings_cross_total_frequency = all_kings_x_stations.Frequency.sum()"
   ]
  },
  {
   "cell_type": "code",
   "execution_count": null,
   "id": "7a0a3c95-0021-4a50-b147-361507323617",
   "metadata": {},
   "outputs": [],
   "source": [
    "# In the original data frame, Liverpool Street and Kings Cross have different names.\n",
    "# Update them to match station_df\n",
    "\n",
    "# Adding the new row using append\n",
    "all_stations_count.loc[len(all_stations_count), all_stations_count.columns] = \"King's Cross St. Pancras\", kings_cross_total_frequency\n",
    "all_stations_count = all_stations_count[~all_stations_count['Station'].isin(all_kings_x_stations['Station'])]"
   ]
  },
  {
   "cell_type": "code",
   "execution_count": null,
   "id": "7cceb319-2198-416f-9bf0-70b17108e7a1",
   "metadata": {},
   "outputs": [],
   "source": [
    "def get_journey_count(station_name):\n",
    "    if station_name in all_stations_count[\"Station\"].values:\n",
    "        return all_stations_count.loc[all_stations_count[\"Station\"] == station_name][\"Frequency\"].iloc[0]\n",
    "    return 0\n",
    "\n",
    "station_df[\"journey_count\"] = station_df[\"NAME\"].apply(lambda x: get_journey_count(x))\n",
    "station_df.head()"
   ]
  },
  {
   "cell_type": "code",
   "execution_count": null,
   "id": "6564bf56-9c50-482d-9c1c-29d575b75306",
   "metadata": {},
   "outputs": [],
   "source": [
    "m = folium.Map(location=[51.51398203, -0.0742363], tiles='OpenStreetMap', zoom_start=12)\n",
    "busy_stations = [\"Oxford Circus\", \"Victoria\", \"London Bridge\", \"Liverpool Street\", \"Canary Wharf\",\n",
    "                \"Stratford\", \"King's Cross St. Pancras\"]\n",
    "\n",
    "for i in range(0, len(station_df)):\n",
    "    station_name = station_df.iloc[i]['NAME']\n",
    "    station_zone = station_df.iloc[i]['Zone']\n",
    "    color = 'blue'\n",
    "    if station_name in busy_stations:\n",
    "        color='red'\n",
    "    if station_zone in [1, 2, 3]:\n",
    "        folium.Circle(\n",
    "            location = [station_df.iloc[i]['y'], station_df.iloc[i]['x']],\n",
    "            popup= station_name,\n",
    "            radius = float(station_df.iloc[i][\"journey_count\"])/100,\n",
    "            color=color,\n",
    "            fill=True,\n",
    "            fill_color=color\n",
    "        ).add_to(m)\n",
    "m"
   ]
  },
  {
   "cell_type": "markdown",
   "id": "ce585a17-97bf-4149-b1e4-70b9c1172920",
   "metadata": {},
   "source": [
    "This map shows stations in Zones 1 to 3.\n",
    "The red dots are the busiest stations. \n",
    "The radius of the dots show how busy the stations are. \n",
    "This can be used to direct customers to nearby, less busy station_coordinates.csv\n",
    "E.g. Customers who usually go to Liverpool Street Station could instead use Moorgate or Aldgate."
   ]
  },
  {
   "cell_type": "code",
   "execution_count": null,
   "id": "fca440f6-9b34-4c49-baa0-cdb22190334f",
   "metadata": {},
   "outputs": [],
   "source": []
  }
 ],
 "metadata": {
  "kernelspec": {
   "display_name": "Python 3 (ipykernel)",
   "language": "python",
   "name": "python3"
  },
  "language_info": {
   "codemirror_mode": {
    "name": "ipython",
    "version": 3
   },
   "file_extension": ".py",
   "mimetype": "text/x-python",
   "name": "python",
   "nbconvert_exporter": "python",
   "pygments_lexer": "ipython3",
   "version": "3.12.4"
  }
 },
 "nbformat": 4,
 "nbformat_minor": 5
}
