{
 "cells": [
  {
   "cell_type": "markdown",
   "id": "48ff3835-9b6e-4171-8996-4a236e58f397",
   "metadata": {},
   "source": [
    "# Transport for London (TfL) Journeys - Exploratory Data Analysis"
   ]
  },
  {
   "cell_type": "markdown",
   "id": "03f199af-3ede-4739-8e33-7f7bd5102b54",
   "metadata": {},
   "source": [
    "This is an exploratory data analysis project. The aim of this project is to identify the main characteristics of a dataset, extract information without using a formal model and display insights visually in a way that would be understood by stakeholders."
   ]
  },
  {
   "cell_type": "markdown",
   "id": "3612e834-1d7e-4cd8-b5ee-6613e785412a",
   "metadata": {},
   "source": [
    "I chose this dataset to analyse, because I am a regular user of the Transport for London (TfL) network. I find myself constantly trying to avoid travelling during busier times or at busier stations. I thought that it would be interesting to analyse the data from the point of view of a TfL employee who is trying to reduce overcrowded stations."
   ]
  },
  {
   "cell_type": "markdown",
   "id": "fee3c70c-62a1-4604-bfea-41733d0e41ba",
   "metadata": {},
   "source": [
    "## The Dataset"
   ]
  },
  {
   "cell_type": "markdown",
   "id": "44861da6-052e-4b0f-8137-34d59c1b75ad",
   "metadata": {},
   "source": [
    "https://www.kaggle.com/datasets/astronasko/transport-for-london-journey-information\n",
    "\n",
    "The dataset contains data on Oyster Card journeys from a week in November of 2009. Oyster cards are reusable cards used for ticketing purposes on the TfL network, so they can be used on buses, underground trains, tram lines etc.\n",
    "\n",
    "The features in the dataset are either about the journey taken (e.g. Start/Exit station, Route numbers) or the Oyster Card type. "
   ]
  },
  {
   "cell_type": "markdown",
   "id": "e13a3a63-a912-4c22-923e-30e7457a4151",
   "metadata": {},
   "source": [
    "### Limitations of the Dataset \n",
    "\n",
    "- All the data is from a single week in November 2009, that may not be representative of all weeks.\n",
    "- Since the data is from over 15 years ago, it may inaccurately describe what journeys would look like today. Many things have changed such as new service lines, different payment methods. Because of this, I want to ensure that any analysis applied on this dataset could be applied on a dataset from 2024 as well."
   ]
  },
  {
   "cell_type": "markdown",
   "id": "09b71441-2057-4430-bf22-0506dec37802",
   "metadata": {},
   "source": [
    "## Analysis"
   ]
  },
  {
   "cell_type": "markdown",
   "id": "388b8caf-f9b5-418a-b2af-78dbbf838c3e",
   "metadata": {},
   "source": [
    "Questions to answer in the initial analysis:\n",
    "- How many journeys were made for each mode of transport (i.e. bus, DLR, underground etc.)?\n",
    "- What is the distribution of journey start times? This can help to identify the busiest times.\n",
    "- Which stations are used the most?\n",
    "- Which products are used to pay for journeys the most/least?"
   ]
  },
  {
   "cell_type": "code",
   "execution_count": 1,
   "id": "eee9fd89-8730-4ad8-abde-198d22689be9",
   "metadata": {},
   "outputs": [],
   "source": [
    "import pandas as pd\n",
    "import seaborn as sns\n",
    "import matplotlib.pyplot as plt\n",
    "from datetime import time\n",
    "import math"
   ]
  },
  {
   "cell_type": "code",
   "execution_count": 2,
   "id": "4e05243a-a7a7-4ac0-ac97-afbaa2c73091",
   "metadata": {},
   "outputs": [
    {
     "data": {
      "text/html": [
       "<div>\n",
       "<style scoped>\n",
       "    .dataframe tbody tr th:only-of-type {\n",
       "        vertical-align: middle;\n",
       "    }\n",
       "\n",
       "    .dataframe tbody tr th {\n",
       "        vertical-align: top;\n",
       "    }\n",
       "\n",
       "    .dataframe thead th {\n",
       "        text-align: right;\n",
       "    }\n",
       "</style>\n",
       "<table border=\"1\" class=\"dataframe\">\n",
       "  <thead>\n",
       "    <tr style=\"text-align: right;\">\n",
       "      <th></th>\n",
       "      <th>downo</th>\n",
       "      <th>daytype</th>\n",
       "      <th>SubSystem</th>\n",
       "      <th>StartStn</th>\n",
       "      <th>EndStation</th>\n",
       "      <th>EntTime</th>\n",
       "      <th>EntTimeHHMM</th>\n",
       "      <th>ExTime</th>\n",
       "      <th>EXTimeHHMM</th>\n",
       "      <th>ZVPPT</th>\n",
       "      <th>JNYTYP</th>\n",
       "      <th>DailyCapping</th>\n",
       "      <th>FFare</th>\n",
       "      <th>DFare</th>\n",
       "      <th>RouteID</th>\n",
       "      <th>FinalProduct</th>\n",
       "    </tr>\n",
       "  </thead>\n",
       "  <tbody>\n",
       "    <tr>\n",
       "      <th>0</th>\n",
       "      <td>3</td>\n",
       "      <td>Tue</td>\n",
       "      <td>LUL</td>\n",
       "      <td>Unstarted</td>\n",
       "      <td>Kings Cross M</td>\n",
       "      <td>0</td>\n",
       "      <td>00:00</td>\n",
       "      <td>633</td>\n",
       "      <td>10:33</td>\n",
       "      <td>Z0104</td>\n",
       "      <td>TKT</td>\n",
       "      <td>N</td>\n",
       "      <td>0</td>\n",
       "      <td>0</td>\n",
       "      <td>XX</td>\n",
       "      <td>LUL Travelcard-7 Day</td>\n",
       "    </tr>\n",
       "    <tr>\n",
       "      <th>1</th>\n",
       "      <td>4</td>\n",
       "      <td>Wed</td>\n",
       "      <td>LUL</td>\n",
       "      <td>Unstarted</td>\n",
       "      <td>Sudbury Hill</td>\n",
       "      <td>0</td>\n",
       "      <td>00:00</td>\n",
       "      <td>447</td>\n",
       "      <td>07:27</td>\n",
       "      <td>Z0110</td>\n",
       "      <td>TKT</td>\n",
       "      <td>N</td>\n",
       "      <td>0</td>\n",
       "      <td>0</td>\n",
       "      <td>XX</td>\n",
       "      <td>Freedom Pass (Elderly)</td>\n",
       "    </tr>\n",
       "    <tr>\n",
       "      <th>2</th>\n",
       "      <td>3</td>\n",
       "      <td>Tue</td>\n",
       "      <td>NR</td>\n",
       "      <td>Unstarted</td>\n",
       "      <td>Richmond</td>\n",
       "      <td>0</td>\n",
       "      <td>00:00</td>\n",
       "      <td>966</td>\n",
       "      <td>16:06</td>\n",
       "      <td>Z0304</td>\n",
       "      <td>TKT</td>\n",
       "      <td>N</td>\n",
       "      <td>0</td>\n",
       "      <td>0</td>\n",
       "      <td>XX</td>\n",
       "      <td>LUL Travelcard-7 Day</td>\n",
       "    </tr>\n",
       "    <tr>\n",
       "      <th>3</th>\n",
       "      <td>4</td>\n",
       "      <td>Wed</td>\n",
       "      <td>NR</td>\n",
       "      <td>Unstarted</td>\n",
       "      <td>Romford</td>\n",
       "      <td>0</td>\n",
       "      <td>00:00</td>\n",
       "      <td>657</td>\n",
       "      <td>10:57</td>\n",
       "      <td>Z0110</td>\n",
       "      <td>TKT</td>\n",
       "      <td>N</td>\n",
       "      <td>0</td>\n",
       "      <td>0</td>\n",
       "      <td>XX</td>\n",
       "      <td>Freedom Pass (Elderly)</td>\n",
       "    </tr>\n",
       "    <tr>\n",
       "      <th>4</th>\n",
       "      <td>6</td>\n",
       "      <td>Fri</td>\n",
       "      <td>NR</td>\n",
       "      <td>Unstarted</td>\n",
       "      <td>Norwood Junction SR</td>\n",
       "      <td>0</td>\n",
       "      <td>00:00</td>\n",
       "      <td>450</td>\n",
       "      <td>07:30</td>\n",
       "      <td>Z0104</td>\n",
       "      <td>TKT</td>\n",
       "      <td>N</td>\n",
       "      <td>0</td>\n",
       "      <td>0</td>\n",
       "      <td>XX</td>\n",
       "      <td>LUL Travelcard-7 Day</td>\n",
       "    </tr>\n",
       "  </tbody>\n",
       "</table>\n",
       "</div>"
      ],
      "text/plain": [
       "   downo daytype SubSystem   StartStn           EndStation  EntTime  \\\n",
       "0      3     Tue       LUL  Unstarted        Kings Cross M        0   \n",
       "1      4     Wed       LUL  Unstarted         Sudbury Hill        0   \n",
       "2      3     Tue        NR  Unstarted             Richmond        0   \n",
       "3      4     Wed        NR  Unstarted              Romford        0   \n",
       "4      6     Fri        NR  Unstarted  Norwood Junction SR        0   \n",
       "\n",
       "  EntTimeHHMM  ExTime EXTimeHHMM  ZVPPT JNYTYP DailyCapping  FFare  DFare  \\\n",
       "0       00:00     633      10:33  Z0104    TKT            N      0      0   \n",
       "1       00:00     447      07:27  Z0110    TKT            N      0      0   \n",
       "2       00:00     966      16:06  Z0304    TKT            N      0      0   \n",
       "3       00:00     657      10:57  Z0110    TKT            N      0      0   \n",
       "4       00:00     450      07:30  Z0104    TKT            N      0      0   \n",
       "\n",
       "  RouteID            FinalProduct  \n",
       "0      XX    LUL Travelcard-7 Day  \n",
       "1      XX  Freedom Pass (Elderly)  \n",
       "2      XX    LUL Travelcard-7 Day  \n",
       "3      XX  Freedom Pass (Elderly)  \n",
       "4      XX    LUL Travelcard-7 Day  "
      ]
     },
     "execution_count": 2,
     "metadata": {},
     "output_type": "execute_result"
    }
   ],
   "source": [
    "df = pd.read_csv(\"Nov09JnyExport.csv\")\n",
    "df.head()"
   ]
  },
  {
   "cell_type": "code",
   "execution_count": 3,
   "id": "59518b4c-6ce2-4b2c-95a4-6124cce83c97",
   "metadata": {},
   "outputs": [
    {
     "name": "stdout",
     "output_type": "stream",
     "text": [
      "<class 'pandas.core.frame.DataFrame'>\n",
      "RangeIndex: 2623487 entries, 0 to 2623486\n",
      "Data columns (total 16 columns):\n",
      " #   Column        Non-Null Count    Dtype \n",
      "---  ------        --------------    ----- \n",
      " 0   downo         2623487 non-null  int64 \n",
      " 1   daytype       2623487 non-null  object\n",
      " 2   SubSystem     2623487 non-null  object\n",
      " 3   StartStn      2623487 non-null  object\n",
      " 4   EndStation    2623487 non-null  object\n",
      " 5   EntTime       2623487 non-null  int64 \n",
      " 6   EntTimeHHMM   2623487 non-null  object\n",
      " 7   ExTime        2623487 non-null  int64 \n",
      " 8   EXTimeHHMM    2623487 non-null  object\n",
      " 9   ZVPPT         2623487 non-null  object\n",
      " 10  JNYTYP        2623487 non-null  object\n",
      " 11  DailyCapping  2623487 non-null  object\n",
      " 12  FFare         2623487 non-null  int64 \n",
      " 13  DFare         2623487 non-null  int64 \n",
      " 14  RouteID       2623487 non-null  object\n",
      " 15  FinalProduct  2623487 non-null  object\n",
      "dtypes: int64(5), object(11)\n",
      "memory usage: 320.3+ MB\n"
     ]
    }
   ],
   "source": [
    "row_count = len(df)\n",
    "df.info(show_counts=True)"
   ]
  },
  {
   "cell_type": "markdown",
   "id": "45c2cfea-d138-44fc-a7fd-fc222cc1dc87",
   "metadata": {},
   "source": [
    "The data has 2623487 rows. The summary above shows that there are no Null values."
   ]
  },
  {
   "cell_type": "markdown",
   "id": "9f21fc4a-35d1-4902-874d-d8775a671ebd",
   "metadata": {},
   "source": [
    "I'm going to find out which mode of transport is most popular."
   ]
  },
  {
   "cell_type": "code",
   "execution_count": 4,
   "id": "f2edeece-b747-45d7-8981-322860cc24ba",
   "metadata": {},
   "outputs": [
    {
     "data": {
      "text/plain": [
       "SubSystem\n",
       "LTB           1768080\n",
       "LUL            723126\n",
       "NR              47715\n",
       "LUL/NR          25990\n",
       "LUL/DLR         13911\n",
       "TRAM             9583\n",
       "DLR              9224\n",
       "LUL/NR/LRC       8262\n",
       "NR/LRC           6665\n",
       "LRC              3713\n",
       "LUL/LRC          3293\n",
       "LUL/NR/DLR       2812\n",
       "HEX               760\n",
       "NR/DLR            263\n",
       "LUL/TRAM           86\n",
       "DLR/LRC             4\n",
       "Name: count, dtype: int64"
      ]
     },
     "execution_count": 4,
     "metadata": {},
     "output_type": "execute_result"
    }
   ],
   "source": [
    "df['SubSystem'].value_counts()"
   ]
  },
  {
   "cell_type": "markdown",
   "id": "fea000d4-a28f-481e-98eb-004f7c03505e",
   "metadata": {},
   "source": [
    "The top three modes of transport London Buses (LTB), London Underground (LUL) and National Rail (NL) make up 97% of all journeys."
   ]
  },
  {
   "cell_type": "markdown",
   "id": "ad8fde15-2fe2-4b81-a3f7-13728ffa460f",
   "metadata": {},
   "source": [
    "What is the distribution of journey start times?"
   ]
  },
  {
   "cell_type": "code",
   "execution_count": 12,
   "id": "81989c56-5de8-4e82-987e-313985f81773",
   "metadata": {},
   "outputs": [
    {
     "data": {
      "text/plain": [
       "<function matplotlib.pyplot.show(close=None, block=None)>"
      ]
     },
     "execution_count": 12,
     "metadata": {},
     "output_type": "execute_result"
    },
    {
     "data": {
      "image/png": "[encoded data removed]",
      "text/plain": [
       "<Figure size 500x500 with 1 Axes>"
      ]
     },
     "metadata": {},
     "output_type": "display_data"
    }
   ],
   "source": [
    "df[\"EntTimeHoursAfterMidnight\"] = df[\"EntTime\"]/60\n",
    "ax = sns.displot(df, x=\"EntTimeHoursAfterMidnight\")\n",
    "ax.set(xlabel=\"Journey entry time (hours after midnight)\", ylabel='Number of journeys', title=\"Graph showing distribution of journey start times\")\n",
    "plt.show"
   ]
  },
  {
   "cell_type": "markdown",
   "id": "cc7289ba-aa29-4172-9854-7508e0c02c73",
   "metadata": {},
   "source": [
    "From the graph, we can see that the data collection starts just before 5am on the first day and stops at around the same time the next day.\n",
    "\n",
    "It seems that the peak times for journeys started are around 8am and between 3pm and 6pm.\n",
    "Between these times, there are also a considerable amount of journies. Between 1am and 5am there are very little journeys started."
   ]
  },
  {
   "cell_type": "markdown",
   "id": "c73e2e3d-dbc5-4078-93dc-185e29dca574",
   "metadata": {},
   "source": [
    "What about the sharp spike of data at 0 (midnight)? It's unlikely that data collection was occuring at this time, as most of the data starts at 5am. Even if data was being collected, I would not expect over 40,000 journeys to have started at this time, as the number is at around 2000 the next day.\n",
    "\n",
    "I expect this has to do with 'unstarted' journeys (where the customer may have forgotten to 'tap' their Oyster card on entering the TfL Network). I'm going to verify this."
   ]
  },
  {
   "cell_type": "code",
   "execution_count": 14,
   "id": "be51e017-157b-472c-b3e4-819d7118344b",
   "metadata": {},
   "outputs": [
    {
     "name": "stdout",
     "output_type": "stream",
     "text": [
      "Number of journies that started at midnight:  45989\n",
      "Number of 'unstarted' journies:  45994\n",
      "'Unstarted' journies make up 1.7531628706374378% of all journies \n"
     ]
    }
   ],
   "source": [
    "row_count = len(df)\n",
    "ent_time_0_count = len(df[df.EntTime == 0])\n",
    "unstarted_journey_count = len(df[df.StartStn == \"Unstarted\"])\n",
    "print(\"Number of journies that started at midnight: \", ent_time_0_count)\n",
    "print(\"Number of 'unstarted' journies: \", unstarted_journey_count)\n",
    "print(\"\\'Unstarted\\' journies make up {}% of all journies \".format(unstarted_journey_count*100/row_count))"
   ]
  },
  {
   "cell_type": "markdown",
   "id": "ae31ad83-a774-4d54-bc9b-159bc186a26b",
   "metadata": {},
   "source": [
    "The numbers seem to confirm that the spike of journeys 'started' at midnight correspond to the number of unstarted journeys.\n",
    "Since these journies make up less than 2% of all journies, it would be safe to drop these instances if needed."
   ]
  },
  {
   "cell_type": "markdown",
   "id": "b9417dc3-0a55-4164-b842-b4961e8bd4a9",
   "metadata": {},
   "source": [
    "Next, I want to find out which stations are the busiest. This will be informative when trying to reduce overcrowding on the network."
   ]
  },
  {
   "cell_type": "code",
   "execution_count": null,
   "id": "55f24f21-832b-43cd-9bbe-28aa5ed2440d",
   "metadata": {},
   "outputs": [],
   "source": [
    "# Combine the start and end stations into a series.\n",
    "start_stations = df[~df.StartStn.isin([\"Unstarted\", \"Bus\"])][\"StartStn\"]\n",
    "end_stations = df[~df.EndStation.isin([\"Unfinished\", \"Bus\"])][\"EndStation\"]\n",
    "all_stations = start_stations._append(end_stations, ignore_index=True)\n",
    "all_stations_count = all_stations.value_counts()\n",
    "stations_highest_count = all_stations_count.nlargest(7)\n",
    "stations_lowest_count = all_stations_count.nsmallest(7)\n",
    "\n",
    "all_stations_count"
   ]
  }
 ],
 "metadata": {
  "kernelspec": {
   "display_name": "Python 3 (ipykernel)",
   "language": "python",
   "name": "python3"
  },
  "language_info": {
   "codemirror_mode": {
    "name": "ipython",
    "version": 3
   },
   "file_extension": ".py",
   "mimetype": "text/x-python",
   "name": "python",
   "nbconvert_exporter": "python",
   "pygments_lexer": "ipython3",
   "version": "3.12.4"
  }
 },
 "nbformat": 4,
 "nbformat_minor": 5
}
